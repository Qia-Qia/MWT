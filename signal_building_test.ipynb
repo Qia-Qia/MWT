{
 "cells": [
  {
   "cell_type": "markdown",
   "metadata": {},
   "source": [
    "# Trying Out Signal Building using Random Forest Regressor"
   ]
  },
  {
   "cell_type": "markdown",
   "metadata": {},
   "source": [
    "### Setup - Importing Data and Creating Model Object"
   ]
  },
  {
   "cell_type": "code",
   "execution_count": 1,
   "metadata": {},
   "outputs": [],
   "source": [
    "from sklearn.feature_selection import RFE\n",
    "from sklearn.ensemble import RandomForestRegressor\n",
    "from sklearn.model_selection import train_test_split\n",
    "import pandas as pd\n",
    "import numpy as np"
   ]
  },
  {
   "cell_type": "code",
   "execution_count": 2,
   "metadata": {},
   "outputs": [],
   "source": [
    "MAX_LOOKBACK = 50\n",
    "select = RFE(RandomForestRegressor(n_estimators=100, random_state=42),\n",
    "                 n_features_to_select=10)"
   ]
  },
  {
   "cell_type": "code",
   "execution_count": 3,
   "metadata": {},
   "outputs": [],
   "source": [
    "ticker_df = pd.read_csv('ticker_data.csv')\n",
    "factor_df = pd.read_csv('factor_data.csv')"
   ]
  },
  {
   "cell_type": "code",
   "execution_count": 4,
   "metadata": {},
   "outputs": [
    {
     "data": {
      "text/plain": [
       "(2520000, 7)"
      ]
     },
     "execution_count": 4,
     "metadata": {},
     "output_type": "execute_result"
    }
   ],
   "source": [
    "ticker_df.shape"
   ]
  },
  {
   "cell_type": "code",
   "execution_count": 5,
   "metadata": {},
   "outputs": [
    {
     "data": {
      "text/plain": [
       "(2520, 11)"
      ]
     },
     "execution_count": 5,
     "metadata": {},
     "output_type": "execute_result"
    }
   ],
   "source": [
    "factor_df.shape"
   ]
  },
  {
   "cell_type": "code",
   "execution_count": 6,
   "metadata": {},
   "outputs": [],
   "source": [
    "ticker_df.set_index('timestep', inplace=True)\n",
    "factor_df.set_index('timestep', inplace=True)"
   ]
  },
  {
   "cell_type": "code",
   "execution_count": 7,
   "metadata": {},
   "outputs": [],
   "source": [
    "# for idx in stock_df.index.unique():\n",
    "#     if idx < MAX_LOOKBACK:\n",
    "#         continue\n",
    "#     stock_features = stock_df.loc[idx-MAX_LOOKBACK:idx-1]\n",
    "#     returns = stock_df.loc[idx:idx].set_index('ticker')['returns']"
   ]
  },
  {
   "cell_type": "code",
   "execution_count": 8,
   "metadata": {},
   "outputs": [
    {
     "data": {
      "text/html": [
       "<div>\n",
       "<style scoped>\n",
       "    .dataframe tbody tr th:only-of-type {\n",
       "        vertical-align: middle;\n",
       "    }\n",
       "\n",
       "    .dataframe tbody tr th {\n",
       "        vertical-align: top;\n",
       "    }\n",
       "\n",
       "    .dataframe thead th {\n",
       "        text-align: right;\n",
       "    }\n",
       "</style>\n",
       "<table border=\"1\" class=\"dataframe\">\n",
       "  <thead>\n",
       "    <tr style=\"text-align: right;\">\n",
       "      <th></th>\n",
       "      <th>index</th>\n",
       "      <th>industry</th>\n",
       "      <th>market_cap</th>\n",
       "      <th>pb</th>\n",
       "      <th>returns</th>\n",
       "      <th>ticker</th>\n",
       "    </tr>\n",
       "    <tr>\n",
       "      <th>timestep</th>\n",
       "      <th></th>\n",
       "      <th></th>\n",
       "      <th></th>\n",
       "      <th></th>\n",
       "      <th></th>\n",
       "      <th></th>\n",
       "    </tr>\n",
       "  </thead>\n",
       "  <tbody>\n",
       "    <tr>\n",
       "      <th>2519</th>\n",
       "      <td>2519996</td>\n",
       "      <td>OTHER</td>\n",
       "      <td>1.035594e+11</td>\n",
       "      <td>1.979052</td>\n",
       "      <td>0.001703</td>\n",
       "      <td>995</td>\n",
       "    </tr>\n",
       "    <tr>\n",
       "      <th>2519</th>\n",
       "      <td>2519997</td>\n",
       "      <td>OTHER</td>\n",
       "      <td>5.142583e+10</td>\n",
       "      <td>0.583961</td>\n",
       "      <td>0.005253</td>\n",
       "      <td>996</td>\n",
       "    </tr>\n",
       "    <tr>\n",
       "      <th>2519</th>\n",
       "      <td>2519998</td>\n",
       "      <td>OTHER</td>\n",
       "      <td>3.950213e+10</td>\n",
       "      <td>1.652489</td>\n",
       "      <td>0.001301</td>\n",
       "      <td>997</td>\n",
       "    </tr>\n",
       "    <tr>\n",
       "      <th>2519</th>\n",
       "      <td>2519999</td>\n",
       "      <td>OTHER</td>\n",
       "      <td>8.575395e+10</td>\n",
       "      <td>0.539744</td>\n",
       "      <td>0.001784</td>\n",
       "      <td>998</td>\n",
       "    </tr>\n",
       "    <tr>\n",
       "      <th>2519</th>\n",
       "      <td>2520000</td>\n",
       "      <td>OTHER</td>\n",
       "      <td>7.303320e+10</td>\n",
       "      <td>4.574023</td>\n",
       "      <td>0.005336</td>\n",
       "      <td>999</td>\n",
       "    </tr>\n",
       "  </tbody>\n",
       "</table>\n",
       "</div>"
      ],
      "text/plain": [
       "            index industry    market_cap        pb   returns  ticker\n",
       "timestep                                                            \n",
       "2519      2519996    OTHER  1.035594e+11  1.979052  0.001703     995\n",
       "2519      2519997    OTHER  5.142583e+10  0.583961  0.005253     996\n",
       "2519      2519998    OTHER  3.950213e+10  1.652489  0.001301     997\n",
       "2519      2519999    OTHER  8.575395e+10  0.539744  0.001784     998\n",
       "2519      2520000    OTHER  7.303320e+10  4.574023  0.005336     999"
      ]
     },
     "execution_count": 8,
     "metadata": {},
     "output_type": "execute_result"
    }
   ],
   "source": [
    "ticker_df.tail()"
   ]
  },
  {
   "cell_type": "code",
   "execution_count": 109,
   "metadata": {},
   "outputs": [
    {
     "data": {
      "text/html": [
       "<div>\n",
       "<style scoped>\n",
       "    .dataframe tbody tr th:only-of-type {\n",
       "        vertical-align: middle;\n",
       "    }\n",
       "\n",
       "    .dataframe tbody tr th {\n",
       "        vertical-align: top;\n",
       "    }\n",
       "\n",
       "    .dataframe thead th {\n",
       "        text-align: right;\n",
       "    }\n",
       "</style>\n",
       "<table border=\"1\" class=\"dataframe\">\n",
       "  <thead>\n",
       "    <tr style=\"text-align: right;\">\n",
       "      <th></th>\n",
       "      <th>VIX</th>\n",
       "      <th>COPP</th>\n",
       "      <th>3M_R</th>\n",
       "      <th>US_TRY</th>\n",
       "      <th>BIG_IX</th>\n",
       "      <th>SMALL_IX</th>\n",
       "      <th>SENTI</th>\n",
       "      <th>TEMP</th>\n",
       "      <th>RAIN</th>\n",
       "      <th>OIL</th>\n",
       "    </tr>\n",
       "    <tr>\n",
       "      <th>timestep</th>\n",
       "      <th></th>\n",
       "      <th></th>\n",
       "      <th></th>\n",
       "      <th></th>\n",
       "      <th></th>\n",
       "      <th></th>\n",
       "      <th></th>\n",
       "      <th></th>\n",
       "      <th></th>\n",
       "      <th></th>\n",
       "    </tr>\n",
       "  </thead>\n",
       "  <tbody>\n",
       "    <tr>\n",
       "      <th>2515</th>\n",
       "      <td>15.511097</td>\n",
       "      <td>79.723423</td>\n",
       "      <td>0.116463</td>\n",
       "      <td>0.132864</td>\n",
       "      <td>189.597902</td>\n",
       "      <td>226.271197</td>\n",
       "      <td>78.053635</td>\n",
       "      <td>73.720732</td>\n",
       "      <td>0.018578</td>\n",
       "      <td>61.027667</td>\n",
       "    </tr>\n",
       "    <tr>\n",
       "      <th>2516</th>\n",
       "      <td>15.560791</td>\n",
       "      <td>73.733307</td>\n",
       "      <td>0.116408</td>\n",
       "      <td>0.127496</td>\n",
       "      <td>189.258870</td>\n",
       "      <td>225.995475</td>\n",
       "      <td>77.970899</td>\n",
       "      <td>71.743760</td>\n",
       "      <td>0.387718</td>\n",
       "      <td>50.240109</td>\n",
       "    </tr>\n",
       "    <tr>\n",
       "      <th>2517</th>\n",
       "      <td>16.208143</td>\n",
       "      <td>88.971753</td>\n",
       "      <td>0.115656</td>\n",
       "      <td>0.131096</td>\n",
       "      <td>188.843321</td>\n",
       "      <td>225.471760</td>\n",
       "      <td>77.604489</td>\n",
       "      <td>78.626178</td>\n",
       "      <td>0.083130</td>\n",
       "      <td>61.180614</td>\n",
       "    </tr>\n",
       "    <tr>\n",
       "      <th>2518</th>\n",
       "      <td>15.516858</td>\n",
       "      <td>82.511739</td>\n",
       "      <td>0.116453</td>\n",
       "      <td>0.135125</td>\n",
       "      <td>188.472021</td>\n",
       "      <td>225.135769</td>\n",
       "      <td>77.236877</td>\n",
       "      <td>77.127699</td>\n",
       "      <td>0.139215</td>\n",
       "      <td>41.940835</td>\n",
       "    </tr>\n",
       "    <tr>\n",
       "      <th>2519</th>\n",
       "      <td>14.642877</td>\n",
       "      <td>77.141319</td>\n",
       "      <td>0.117766</td>\n",
       "      <td>0.133586</td>\n",
       "      <td>188.064200</td>\n",
       "      <td>224.556336</td>\n",
       "      <td>76.139491</td>\n",
       "      <td>73.692392</td>\n",
       "      <td>0.028061</td>\n",
       "      <td>46.885229</td>\n",
       "    </tr>\n",
       "  </tbody>\n",
       "</table>\n",
       "</div>"
      ],
      "text/plain": [
       "                VIX       COPP      3M_R    US_TRY      BIG_IX    SMALL_IX  \\\n",
       "timestep                                                                     \n",
       "2515      15.511097  79.723423  0.116463  0.132864  189.597902  226.271197   \n",
       "2516      15.560791  73.733307  0.116408  0.127496  189.258870  225.995475   \n",
       "2517      16.208143  88.971753  0.115656  0.131096  188.843321  225.471760   \n",
       "2518      15.516858  82.511739  0.116453  0.135125  188.472021  225.135769   \n",
       "2519      14.642877  77.141319  0.117766  0.133586  188.064200  224.556336   \n",
       "\n",
       "              SENTI       TEMP      RAIN        OIL  \n",
       "timestep                                             \n",
       "2515      78.053635  73.720732  0.018578  61.027667  \n",
       "2516      77.970899  71.743760  0.387718  50.240109  \n",
       "2517      77.604489  78.626178  0.083130  61.180614  \n",
       "2518      77.236877  77.127699  0.139215  41.940835  \n",
       "2519      76.139491  73.692392  0.028061  46.885229  "
      ]
     },
     "execution_count": 109,
     "metadata": {},
     "output_type": "execute_result"
    }
   ],
   "source": [
    "factor_df.tail()"
   ]
  },
  {
   "cell_type": "code",
   "execution_count": 96,
   "metadata": {},
   "outputs": [
    {
     "data": {
      "text/plain": [
       "(1, 10)"
      ]
     },
     "execution_count": 96,
     "metadata": {},
     "output_type": "execute_result"
    }
   ],
   "source": [
    "market_factors = factor_df.loc[:0]\n",
    "current = market_factors\n",
    "current.shape"
   ]
  },
  {
   "cell_type": "code",
   "execution_count": 97,
   "metadata": {},
   "outputs": [],
   "source": [
    "market_factors = market_factors.append([current]*999);"
   ]
  },
  {
   "cell_type": "code",
   "execution_count": 98,
   "metadata": {},
   "outputs": [
    {
     "data": {
      "text/plain": [
       "(1000, 10)"
      ]
     },
     "execution_count": 98,
     "metadata": {},
     "output_type": "execute_result"
    }
   ],
   "source": [
    "market_factors.shape"
   ]
  },
  {
   "cell_type": "code",
   "execution_count": 99,
   "metadata": {
    "scrolled": true
   },
   "outputs": [
    {
     "data": {
      "text/html": [
       "<div>\n",
       "<style scoped>\n",
       "    .dataframe tbody tr th:only-of-type {\n",
       "        vertical-align: middle;\n",
       "    }\n",
       "\n",
       "    .dataframe tbody tr th {\n",
       "        vertical-align: top;\n",
       "    }\n",
       "\n",
       "    .dataframe thead th {\n",
       "        text-align: right;\n",
       "    }\n",
       "</style>\n",
       "<table border=\"1\" class=\"dataframe\">\n",
       "  <thead>\n",
       "    <tr style=\"text-align: right;\">\n",
       "      <th></th>\n",
       "      <th>VIX</th>\n",
       "      <th>COPP</th>\n",
       "      <th>3M_R</th>\n",
       "      <th>US_TRY</th>\n",
       "      <th>BIG_IX</th>\n",
       "      <th>SMALL_IX</th>\n",
       "      <th>SENTI</th>\n",
       "      <th>TEMP</th>\n",
       "      <th>RAIN</th>\n",
       "      <th>OIL</th>\n",
       "    </tr>\n",
       "    <tr>\n",
       "      <th>timestep</th>\n",
       "      <th></th>\n",
       "      <th></th>\n",
       "      <th></th>\n",
       "      <th></th>\n",
       "      <th></th>\n",
       "      <th></th>\n",
       "      <th></th>\n",
       "      <th></th>\n",
       "      <th></th>\n",
       "      <th></th>\n",
       "    </tr>\n",
       "  </thead>\n",
       "  <tbody>\n",
       "    <tr>\n",
       "      <th>0</th>\n",
       "      <td>15.0</td>\n",
       "      <td>90.0</td>\n",
       "      <td>0.06</td>\n",
       "      <td>0.27</td>\n",
       "      <td>100.0</td>\n",
       "      <td>100.0</td>\n",
       "      <td>80.0</td>\n",
       "      <td>74.819656</td>\n",
       "      <td>0.639413</td>\n",
       "      <td>65.0</td>\n",
       "    </tr>\n",
       "    <tr>\n",
       "      <th>0</th>\n",
       "      <td>15.0</td>\n",
       "      <td>90.0</td>\n",
       "      <td>0.06</td>\n",
       "      <td>0.27</td>\n",
       "      <td>100.0</td>\n",
       "      <td>100.0</td>\n",
       "      <td>80.0</td>\n",
       "      <td>74.819656</td>\n",
       "      <td>0.639413</td>\n",
       "      <td>65.0</td>\n",
       "    </tr>\n",
       "    <tr>\n",
       "      <th>0</th>\n",
       "      <td>15.0</td>\n",
       "      <td>90.0</td>\n",
       "      <td>0.06</td>\n",
       "      <td>0.27</td>\n",
       "      <td>100.0</td>\n",
       "      <td>100.0</td>\n",
       "      <td>80.0</td>\n",
       "      <td>74.819656</td>\n",
       "      <td>0.639413</td>\n",
       "      <td>65.0</td>\n",
       "    </tr>\n",
       "    <tr>\n",
       "      <th>0</th>\n",
       "      <td>15.0</td>\n",
       "      <td>90.0</td>\n",
       "      <td>0.06</td>\n",
       "      <td>0.27</td>\n",
       "      <td>100.0</td>\n",
       "      <td>100.0</td>\n",
       "      <td>80.0</td>\n",
       "      <td>74.819656</td>\n",
       "      <td>0.639413</td>\n",
       "      <td>65.0</td>\n",
       "    </tr>\n",
       "    <tr>\n",
       "      <th>0</th>\n",
       "      <td>15.0</td>\n",
       "      <td>90.0</td>\n",
       "      <td>0.06</td>\n",
       "      <td>0.27</td>\n",
       "      <td>100.0</td>\n",
       "      <td>100.0</td>\n",
       "      <td>80.0</td>\n",
       "      <td>74.819656</td>\n",
       "      <td>0.639413</td>\n",
       "      <td>65.0</td>\n",
       "    </tr>\n",
       "  </tbody>\n",
       "</table>\n",
       "</div>"
      ],
      "text/plain": [
       "           VIX  COPP  3M_R  US_TRY  BIG_IX  SMALL_IX  SENTI       TEMP  \\\n",
       "timestep                                                                 \n",
       "0         15.0  90.0  0.06    0.27   100.0     100.0   80.0  74.819656   \n",
       "0         15.0  90.0  0.06    0.27   100.0     100.0   80.0  74.819656   \n",
       "0         15.0  90.0  0.06    0.27   100.0     100.0   80.0  74.819656   \n",
       "0         15.0  90.0  0.06    0.27   100.0     100.0   80.0  74.819656   \n",
       "0         15.0  90.0  0.06    0.27   100.0     100.0   80.0  74.819656   \n",
       "\n",
       "              RAIN   OIL  \n",
       "timestep                  \n",
       "0         0.639413  65.0  \n",
       "0         0.639413  65.0  \n",
       "0         0.639413  65.0  \n",
       "0         0.639413  65.0  \n",
       "0         0.639413  65.0  "
      ]
     },
     "execution_count": 99,
     "metadata": {},
     "output_type": "execute_result"
    }
   ],
   "source": [
    "market_factors.head()"
   ]
  },
  {
   "cell_type": "code",
   "execution_count": 113,
   "metadata": {},
   "outputs": [],
   "source": [
    "for row in range(1,2520):\n",
    "    row_to_append = factor_df.loc[row:row]\n",
    "    market_factors = market_factors.append([row_to_append]*1000)"
   ]
  },
  {
   "cell_type": "code",
   "execution_count": 106,
   "metadata": {},
   "outputs": [
    {
     "data": {
      "text/plain": [
       "Int64Index([   1,    2,    3,    4,    5,    6,    7,    8,    9,   10,\n",
       "            ...\n",
       "            2510, 2511, 2512, 2513, 2514, 2515, 2516, 2517, 2518, 2519],\n",
       "           dtype='int64', name='timestep', length=2519)"
      ]
     },
     "execution_count": 106,
     "metadata": {},
     "output_type": "execute_result"
    }
   ],
   "source": [
    "factor_df.index[1:]"
   ]
  },
  {
   "cell_type": "code",
   "execution_count": 111,
   "metadata": {},
   "outputs": [
    {
     "data": {
      "text/plain": [
       "(2628000, 10)"
      ]
     },
     "execution_count": 111,
     "metadata": {},
     "output_type": "execute_result"
    }
   ],
   "source": [
    "market_factors.shape"
   ]
  },
  {
   "cell_type": "markdown",
   "metadata": {},
   "source": [
    "### Train-Test Splitting Data"
   ]
  },
  {
   "cell_type": "code",
   "execution_count": null,
   "metadata": {},
   "outputs": [],
   "source": [
    "# X_train, X_test, y_train, y_test = train_test_split(stock_features, returns, random_state = 0)\n",
    "# select.fit(X_train, y_train)"
   ]
  },
  {
   "cell_type": "code",
   "execution_count": null,
   "metadata": {},
   "outputs": [],
   "source": []
  }
 ],
 "metadata": {
  "kernelspec": {
   "display_name": "Python 3",
   "language": "python",
   "name": "python3"
  },
  "language_info": {
   "codemirror_mode": {
    "name": "ipython",
    "version": 3
   },
   "file_extension": ".py",
   "mimetype": "text/x-python",
   "name": "python",
   "nbconvert_exporter": "python",
   "pygments_lexer": "ipython3",
   "version": "3.6.3"
  }
 },
 "nbformat": 4,
 "nbformat_minor": 2
}
